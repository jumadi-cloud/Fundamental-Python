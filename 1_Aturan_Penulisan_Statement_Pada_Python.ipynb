{
  "nbformat": 4,
  "nbformat_minor": 0,
  "metadata": {
    "colab": {
      "provenance": [],
      "include_colab_link": true
    },
    "kernelspec": {
      "name": "python3",
      "display_name": "Python 3"
    },
    "language_info": {
      "name": "python"
    }
  },
  "cells": [
    {
      "cell_type": "markdown",
      "metadata": {
        "id": "view-in-github",
        "colab_type": "text"
      },
      "source": [
        "<a href=\"https://colab.research.google.com/github/jumadi-cloud/Fundamental-Python/blob/main/1_Aturan_Penulisan_Statement_Pada_Python.ipynb\" target=\"_parent\"><img src=\"https://colab.research.google.com/assets/colab-badge.svg\" alt=\"Open In Colab\"/></a>"
      ]
    },
    {
      "cell_type": "markdown",
      "metadata": {
        "id": "f_zNldobOR7p"
      },
      "source": [
        "# **Aturan Penulisan Statement Pada *Basic Python***\n",
        "1. Penulisan satu statement di dalam Python tidak diakhiri dengan tanda titik-koma\n",
        "2. Statement pada Pyhton dinyatakan dalam satu baris. Jadi akhir dari sebuah pernyataan adalah baris baru (new line).\n",
        "3. Jika ada pernyataan yang panjangnya terdiri lebih dari 1 baris, maka dapat dilakukan dengan menggunakan tanda backslash (\\).\n",
        "4. Statement yang ada di dalam atau diapit oleh tanda kurung seperti \"[],{},()\" tidak memerlukan tanda \"\".\n",
        "5. Python menggunakan tanda indentasi (spasi) sebagai penanda blok. Panjang spasi atau indentasi untuk setiap baris yang ada dalam satu blok kode harus sama. Bila spasi atau indentasi dalam satu grup kode tersebut tidak sama, python akan menamplikan sintaks error.\n",
        "6. Sebaga penanda string, Python menggunakan tanda kutip, baik tunggal ('), maupun ganda(\"). Tanda kutip tiga(\"\"\") digunakan untuk string multibaris.\n",
        "7. Bahasa Python bersifat case sensitif, yang berarti membedakan huruf besar dan huruf kecil (memiliki nilai yang berbeda).\n",
        "8. Untuk komentar di awali dengan tanda \"#\" yang artinya tidak diproses sebagai statement code."
      ]
    },
    {
      "cell_type": "markdown",
      "metadata": {
        "id": "l99P8Enspz3_"
      },
      "source": [
        "**Aturan yang pertama**\n",
        "1. Penulisan satu statement di dalam Python tidak diakhiri dengan tanda titik-koma"
      ]
    },
    {
      "cell_type": "code",
      "metadata": {
        "id": "iDpN1BZeN8Wo",
        "colab": {
          "base_uri": "https://localhost:8080/"
        },
        "outputId": "de0ef880-12ad-4c30-8f4b-5a2c9024adef"
      },
      "source": [
        "print(\"Halo Dunia!\")\n",
        "#print(\"panjang = 100\")\n",
        "#print(\"lebar = 23\")\n",
        "#print('saya suka belajar python')"
      ],
      "execution_count": null,
      "outputs": [
        {
          "output_type": "stream",
          "name": "stdout",
          "text": [
            "Halo Dunia!\n"
          ]
        }
      ]
    },
    {
      "cell_type": "markdown",
      "metadata": {
        "id": "4uqB0sRjruek"
      },
      "source": [
        "**Aturan yang kedua**\n",
        "2. Statement pada Pyhton dinyatakan dalam satu baris. Jadi akhir dari sebuah pernyataan adalah baris baru (new line)."
      ]
    },
    {
      "cell_type": "code",
      "metadata": {
        "colab": {
          "base_uri": "https://localhost:8080/"
        },
        "id": "a0OFpWYUsqs7",
        "outputId": "f9ceeda9-5aa1-4609-be53-6574fd8aa31b"
      },
      "source": [
        "print(\"luas = panjang * lebar\")"
      ],
      "execution_count": null,
      "outputs": [
        {
          "output_type": "stream",
          "name": "stdout",
          "text": [
            "luas = panjang * lebar\n"
          ]
        }
      ]
    },
    {
      "cell_type": "markdown",
      "metadata": {
        "id": "0l4oRzVks5Gx"
      },
      "source": [
        "**Aturan yang ke tiga**\n",
        "\n",
        "3. Jika ada pernyataan yang panjangnya terdiri lebih dari 1 baris, maka dapat dilakukan dengan menggunakan tanda backslash ( \\ ) .\n"
      ]
    },
    {
      "cell_type": "code",
      "metadata": {
        "colab": {
          "base_uri": "https://localhost:8080/"
        },
        "id": "CDwFgmL7uobq",
        "outputId": "29c34c5c-efa4-4319-887f-a5c1b9f59a41"
      },
      "source": [
        "print(\"volume = panjang * lebar *\\\n",
        "tinggi\")\n"
      ],
      "execution_count": null,
      "outputs": [
        {
          "output_type": "stream",
          "name": "stdout",
          "text": [
            "volume = panjang * lebar *tinggi\n"
          ]
        }
      ]
    },
    {
      "cell_type": "markdown",
      "metadata": {
        "id": "o-Bcz5emxuDb"
      },
      "source": [
        "**Aturan yang ke empat**\n",
        "\n",
        "---\n",
        "4. Statement yang ada di dalam atau diapit oleh tanda kurung seperti \"[],{},()\" tidak memerlukan tanda \"\"\n"
      ]
    },
    {
      "cell_type": "code",
      "metadata": {
        "colab": {
          "base_uri": "https://localhost:8080/"
        },
        "id": "cH2zn63Y04DK",
        "outputId": "77141327-6cd3-4c8a-98ce-30f89583fcda"
      },
      "source": [
        "nama_hari = ['Senin','Selasa','Rabu','Kamis','Jumat','Sabtu']\n",
        "print(nama_hari)"
      ],
      "execution_count": null,
      "outputs": [
        {
          "output_type": "stream",
          "name": "stdout",
          "text": [
            "['Senin', 'Selasa', 'Rabu', 'Kamis', 'Jumat', 'Sabtu']\n"
          ]
        }
      ]
    },
    {
      "cell_type": "markdown",
      "metadata": {
        "id": "GxWpA9s41Mgb"
      },
      "source": [
        "**Aturan yang ke lima**\n",
        "\n",
        "---\n",
        "5. Python menggunakan tanda indentasi (spasi) sebagai penanda blok. Panjang spasi atau indentasi untuk setiap baris yang ada dalam satu blok kode harus sama. Bila spasi atau indentasi dalam satu grup kode tersebut tidak sama, python akan menamplikan sintaks error"
      ]
    },
    {
      "cell_type": "code",
      "metadata": {
        "colab": {
          "base_uri": "https://localhost:8080/"
        },
        "id": "0XecJxa71u9t",
        "outputId": "e98e73b2-db7a-4ca7-8137-369dff3d881e"
      },
      "source": [
        "usia = 7\n",
        "if usia >= 7:\n",
        "    print(\"diterima masuk SD\")\n",
        "    print(\"dinyatakan lulus\")\n",
        "else:\n",
        "    print(\"tidak diterima masuk SD\")\n",
        "    print(\"dinyatakan gagal\")"
      ],
      "execution_count": null,
      "outputs": [
        {
          "output_type": "stream",
          "name": "stdout",
          "text": [
            "diterima masuk SD\n",
            "dinyatakan lulus\n"
          ]
        }
      ]
    },
    {
      "cell_type": "markdown",
      "metadata": {
        "id": "-CwfHmhZ18N0"
      },
      "source": [
        "**Aturan yang ke enam**\n",
        "\n",
        "---\n",
        "6. Sebaga penanda string, Python menggunakan tanda kutip, baik tunggal ('), maupun ganda(\"). Tanda kutip tiga(\"\"\") digunakan untuk string multibaris."
      ]
    },
    {
      "cell_type": "code",
      "metadata": {
        "colab": {
          "base_uri": "https://localhost:8080/"
        },
        "id": "oBP4u9P22Ldi",
        "outputId": "04497657-5727-4ef9-dd95-e2289cdda6b4"
      },
      "source": [
        "namadepan = 'Alvin'\n",
        "namalengap = \"Alvin Agusta Wahyono\"\n",
        "alinea = \"\"\"Berikut ini adalah alinea\n",
        "yang terdiri dari beberapa baris.\"\"\"\n",
        "print(namadepan)\n",
        "print(namalengap)\n",
        "print(alinea)\n"
      ],
      "execution_count": null,
      "outputs": [
        {
          "output_type": "stream",
          "name": "stdout",
          "text": [
            "Alvin\n",
            "Alvin Agusta Wahyono\n",
            "Berikut ini adalah alinea\n",
            "yang terdiri dari beberapa baris.\n"
          ]
        }
      ]
    },
    {
      "cell_type": "markdown",
      "metadata": {
        "id": "KcoQbqfc2jxZ"
      },
      "source": [
        "**Aturan yang ke tuju**\n",
        "\n",
        "---\n",
        "7. Bahasa Python bersifat case sensitif, yang berarti membedakan huruf besar dan huruf kecil (memiliki nilai yang berbeda)."
      ]
    },
    {
      "cell_type": "code",
      "metadata": {
        "colab": {
          "base_uri": "https://localhost:8080/"
        },
        "id": "BhhoyOUr3Yi0",
        "outputId": "34ddc15c-ce55-4d1c-ba9d-45f365275f51"
      },
      "source": [
        "# Contoh statement yang benar\n",
        "luas = 15*3\n",
        "print(luas)\n",
        "\n",
        "# Contoh statement yang salah\n",
        "luas = 15*3\n",
        "#Print(luas)\n",
        "#PRINT(luas)\n",
        "print(luas)"
      ],
      "execution_count": null,
      "outputs": [
        {
          "output_type": "stream",
          "name": "stdout",
          "text": [
            "45\n",
            "45\n"
          ]
        }
      ]
    },
    {
      "cell_type": "markdown",
      "metadata": {
        "id": "uIWYt5v63m6D"
      },
      "source": [
        "**Aturan yang ke delapan**\n",
        "\n",
        "---\n",
        "8. Untuk komentar di awali dengan tanda \"#\" yang artinya tidak diproses sebagai statement code."
      ]
    },
    {
      "cell_type": "code",
      "metadata": {
        "colab": {
          "base_uri": "https://localhost:8080/"
        },
        "id": "W0c-Ej176GBX",
        "outputId": "b98dc97b-169b-4a49-b0e4-a550e181e01e"
      },
      "source": [
        "# Contoh\n",
        "# perintah untuk menghitung luas\n",
        "panjang = 15\n",
        "lebar = 3\n",
        "luas = (panjang*lebar)\n",
        "print(luas)\n"
      ],
      "execution_count": null,
      "outputs": [
        {
          "output_type": "stream",
          "name": "stdout",
          "text": [
            "45\n"
          ]
        }
      ]
    }
  ]
}
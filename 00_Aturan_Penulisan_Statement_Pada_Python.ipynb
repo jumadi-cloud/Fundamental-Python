{
  "nbformat": 4,
  "nbformat_minor": 0,
  "metadata": {
    "colab": {
      "provenance": [],
      "gpuType": "T4",
      "include_colab_link": true
    },
    "kernelspec": {
      "name": "python3",
      "display_name": "Python 3"
    },
    "language_info": {
      "name": "python"
    },
    "accelerator": "GPU"
  },
  "cells": [
    {
      "cell_type": "markdown",
      "metadata": {
        "id": "view-in-github",
        "colab_type": "text"
      },
      "source": [
        "<a href=\"https://colab.research.google.com/github/jumadi-cloud/Fundamental-Python/blob/main/00_Aturan_Penulisan_Statement_Pada_Python.ipynb\" target=\"_parent\"><img src=\"https://colab.research.google.com/assets/colab-badge.svg\" alt=\"Open In Colab\"/></a>"
      ]
    },
    {
      "cell_type": "markdown",
      "metadata": {
        "id": "f_zNldobOR7p"
      },
      "source": [
        "# **Aturan Penulisan Statement Pada *Basic Python***\n",
        "1. Penulisan satu statement di dalam Python tidak diakhiri dengan tanda titik-koma\n",
        "2. Statement pada Pyhton dinyatakan dalam satu baris. Jadi akhir dari sebuah pernyataan adalah baris baru (new line).\n",
        "3. Jika ada pernyataan yang panjangnya terdiri lebih dari 1 baris, maka dapat dilakukan dengan menggunakan tanda backslash (\\).\n",
        "4. Statement yang ada di dalam atau diapit oleh tanda kurung seperti \"[],{},()\" tidak memerlukan tanda \"\".\n",
        "5. Python menggunakan tanda indentasi (spasi) sebagai penanda blok. Panjang spasi atau indentasi untuk setiap baris yang ada dalam satu blok kode harus sama. Bila spasi atau indentasi dalam satu grup kode tersebut tidak sama, python akan menamplikan sintaks error.\n",
        "6. Sebaga penanda string, Python menggunakan tanda kutip, baik tunggal ('), maupun ganda(\"). Tanda kutip tiga(\"\"\") digunakan untuk string multibaris.\n",
        "7. Bahasa Python bersifat case sensitif, yang berarti membedakan huruf besar dan huruf kecil (memiliki nilai yang berbeda).\n",
        "8. Untuk komentar di awali dengan tanda \"#\" yang artinya tidak diproses sebagai statement code."
      ]
    },
    {
      "cell_type": "markdown",
      "metadata": {
        "id": "l99P8Enspz3_"
      },
      "source": [
        "**Aturan yang pertama**\n",
        "1. Penulisan satu statement di dalam Python tidak diakhiri dengan tanda titik-koma"
      ]
    },
    {
      "cell_type": "code",
      "metadata": {
        "id": "iDpN1BZeN8Wo",
        "colab": {
          "base_uri": "https://localhost:8080/"
        },
        "outputId": "4d3c0554-8c51-4194-f415-b92678ae18ff"
      },
      "source": [
        "print(\"Halo Dunia!\")\n",
        "#print(\"panjang = 100\")\n",
        "#print(\"lebar = 23\")\n",
        "print('saya suka belajar python')"
      ],
      "execution_count": 2,
      "outputs": [
        {
          "output_type": "stream",
          "name": "stdout",
          "text": [
            "Halo Dunia!\n",
            "saya suka belajar python\n"
          ]
        }
      ]
    },
    {
      "cell_type": "markdown",
      "metadata": {
        "id": "4uqB0sRjruek"
      },
      "source": [
        "**Aturan yang kedua**\n",
        "2. Statement pada Pyhton dinyatakan dalam satu baris. Jadi akhir dari sebuah pernyataan adalah baris baru (new line)."
      ]
    },
    {
      "cell_type": "code",
      "metadata": {
        "colab": {
          "base_uri": "https://localhost:8080/"
        },
        "id": "a0OFpWYUsqs7",
        "outputId": "8400a4c7-abe9-4f9f-f582-85dcc0b8af38"
      },
      "source": [
        "print(\"luas = panjang * lebar\")"
      ],
      "execution_count": 3,
      "outputs": [
        {
          "output_type": "stream",
          "name": "stdout",
          "text": [
            "luas = panjang * lebar\n"
          ]
        }
      ]
    },
    {
      "cell_type": "markdown",
      "metadata": {
        "id": "0l4oRzVks5Gx"
      },
      "source": [
        "**Aturan yang ke tiga**\n",
        "\n",
        "3. Jika ada pernyataan yang panjangnya terdiri lebih dari 1 baris, maka dapat dilakukan dengan menggunakan tanda backslash ( \\ ) .\n"
      ]
    },
    {
      "cell_type": "code",
      "metadata": {
        "colab": {
          "base_uri": "https://localhost:8080/"
        },
        "id": "CDwFgmL7uobq",
        "outputId": "509a70d8-5aa4-4a70-f003-1f148e684d87"
      },
      "source": [
        "print(\"volume = panjang * lebar  mas umam*\\\n",
        "tinggi\")\n"
      ],
      "execution_count": 4,
      "outputs": [
        {
          "output_type": "stream",
          "name": "stdout",
          "text": [
            "volume = panjang * lebar  mas umam*tinggi\n"
          ]
        }
      ]
    },
    {
      "cell_type": "markdown",
      "metadata": {
        "id": "o-Bcz5emxuDb"
      },
      "source": [
        "**Aturan yang ke empat**\n",
        "\n",
        "---\n",
        "4. Statement yang ada di dalam atau diapit oleh tanda kurung seperti \"[],{},()\" tidak memerlukan tanda \"\"\n"
      ]
    },
    {
      "cell_type": "code",
      "metadata": {
        "colab": {
          "base_uri": "https://localhost:8080/"
        },
        "id": "cH2zn63Y04DK",
        "outputId": "423f8e7a-e840-4129-9110-71550c1f58ae"
      },
      "source": [
        "nama_hari = ['Senin','Selasa','Rabu','Kamis','Jumat','Sabtu']\n",
        "print(nama_hari)\n",
        "\n",
        "ucup = ['Senin','Jumat']\n",
        "print(ucup)"
      ],
      "execution_count": 7,
      "outputs": [
        {
          "output_type": "stream",
          "name": "stdout",
          "text": [
            "['Senin', 'Selasa', 'Rabu', 'Kamis', 'Jumat', 'Sabtu']\n",
            "['Senin', 'Jumat']\n"
          ]
        }
      ]
    },
    {
      "cell_type": "markdown",
      "metadata": {
        "id": "GxWpA9s41Mgb"
      },
      "source": [
        "**Aturan yang ke lima**\n",
        "\n",
        "---\n",
        "5. Python menggunakan tanda indentasi (spasi) sebagai penanda blok. Panjang spasi atau indentasi untuk setiap baris yang ada dalam satu blok kode harus sama. Bila spasi atau indentasi dalam satu grup kode tersebut tidak sama, python akan menamplikan sintaks error"
      ]
    },
    {
      "cell_type": "code",
      "metadata": {
        "colab": {
          "base_uri": "https://localhost:8080/"
        },
        "id": "0XecJxa71u9t",
        "outputId": "68bd084f-9ea1-40f0-d8d0-4fae81a7b34a"
      },
      "source": [
        "usia =6\n",
        "if usia >= 7:\n",
        "    print(\"diterima masuk SD\")\n",
        "    # print(\"dinyatakan lulus\")\n",
        "else:\n",
        "    print(\"tidak diterima masuk SD\")\n",
        "    # print(\"dinyatakan gagal\")"
      ],
      "execution_count": 14,
      "outputs": [
        {
          "output_type": "stream",
          "name": "stdout",
          "text": [
            "tidak diterima masuk SD\n"
          ]
        }
      ]
    },
    {
      "cell_type": "markdown",
      "metadata": {
        "id": "-CwfHmhZ18N0"
      },
      "source": [
        "**Aturan yang ke enam**\n",
        "\n",
        "---\n",
        "6. Sebaga penanda string, Python menggunakan tanda kutip, baik tunggal ('), maupun ganda(\"). Tanda kutip tiga(\"\"\") digunakan untuk string multibaris."
      ]
    },
    {
      "cell_type": "code",
      "metadata": {
        "colab": {
          "base_uri": "https://localhost:8080/"
        },
        "id": "oBP4u9P22Ldi",
        "outputId": "2b69e1ae-731b-4d7c-e9b8-adfb41f9692d"
      },
      "source": [
        "namadepan = 'Alvin'\n",
        "namalengap = \"Alvin Agusta Wahyono\"\n",
        "alinea = \"\"\"Berikut ini adalah alinea\n",
        "yang terdiri dari beberapa baris.\"\"\"\n",
        "# print(namadepan)\n",
        "# print(namalengap)\n",
        "# print(alinea)\n",
        "print(namalengap)\n",
        "print(alinea)\n"
      ],
      "execution_count": 17,
      "outputs": [
        {
          "output_type": "stream",
          "name": "stdout",
          "text": [
            "Alvin Agusta Wahyono\n",
            "Berikut ini adalah alinea\n",
            "yang terdiri dari beberapa baris.\n"
          ]
        }
      ]
    },
    {
      "cell_type": "markdown",
      "metadata": {
        "id": "KcoQbqfc2jxZ"
      },
      "source": [
        "**Aturan yang ke tuju**\n",
        "\n",
        "---\n",
        "7. Bahasa Python bersifat case sensitif, yang berarti membedakan huruf besar dan huruf kecil (memiliki nilai yang berbeda)."
      ]
    },
    {
      "cell_type": "code",
      "metadata": {
        "colab": {
          "base_uri": "https://localhost:8080/",
          "height": 200
        },
        "id": "BhhoyOUr3Yi0",
        "outputId": "614a2b1b-f74c-41b6-916e-3df43ae1d839"
      },
      "source": [
        "# Contoh statement yang benar\n",
        "# luas = 15*3\n",
        "# print(luas)\n",
        "\n",
        "# Contoh statement yang salah\n",
        "luas = 15*3\n",
        "#Print(luas)\n",
        "#PRINT(luas)\n",
        "# print(luas)"
      ],
      "execution_count": 22,
      "outputs": [
        {
          "output_type": "error",
          "ename": "NameError",
          "evalue": "name 'PRINT' is not defined",
          "traceback": [
            "\u001b[0;31m---------------------------------------------------------------------------\u001b[0m",
            "\u001b[0;31mNameError\u001b[0m                                 Traceback (most recent call last)",
            "\u001b[0;32m<ipython-input-22-7d7bddc434cf>\u001b[0m in \u001b[0;36m<cell line: 8>\u001b[0;34m()\u001b[0m\n\u001b[1;32m      6\u001b[0m \u001b[0mluas\u001b[0m \u001b[0;34m=\u001b[0m \u001b[0;36m15\u001b[0m\u001b[0;34m*\u001b[0m\u001b[0;36m3\u001b[0m\u001b[0;34m\u001b[0m\u001b[0;34m\u001b[0m\u001b[0m\n\u001b[1;32m      7\u001b[0m \u001b[0;31m#Print(luas)\u001b[0m\u001b[0;34m\u001b[0m\u001b[0;34m\u001b[0m\u001b[0m\n\u001b[0;32m----> 8\u001b[0;31m \u001b[0mPRINT\u001b[0m\u001b[0;34m(\u001b[0m\u001b[0mluas\u001b[0m\u001b[0;34m)\u001b[0m\u001b[0;34m\u001b[0m\u001b[0;34m\u001b[0m\u001b[0m\n\u001b[0m\u001b[1;32m      9\u001b[0m \u001b[0;31m# print(luas)\u001b[0m\u001b[0;34m\u001b[0m\u001b[0;34m\u001b[0m\u001b[0m\n",
            "\u001b[0;31mNameError\u001b[0m: name 'PRINT' is not defined"
          ]
        }
      ]
    },
    {
      "cell_type": "markdown",
      "metadata": {
        "id": "uIWYt5v63m6D"
      },
      "source": [
        "**Aturan yang ke delapan**\n",
        "\n",
        "---\n",
        "8. Untuk komentar di awali dengan tanda \"#\" yang artinya tidak diproses sebagai statement code."
      ]
    },
    {
      "cell_type": "code",
      "metadata": {
        "colab": {
          "base_uri": "https://localhost:8080/"
        },
        "id": "W0c-Ej176GBX",
        "outputId": "fe5856cc-a982-4394-ffb1-6b8f5a2ee41b"
      },
      "source": [
        "\n",
        "# Ini contoh\n",
        "# Contoh\n",
        "# perintah untuk menghitung luas\n",
        "panjang = 15\n",
        "lebar = 3\n",
        "luas = (panjang*lebar)\n",
        "print(luas)\n"
      ],
      "execution_count": 23,
      "outputs": [
        {
          "output_type": "stream",
          "name": "stdout",
          "text": [
            "45\n"
          ]
        }
      ]
    }
  ]
}
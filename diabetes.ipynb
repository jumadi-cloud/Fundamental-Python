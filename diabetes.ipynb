{
  "nbformat": 4,
  "nbformat_minor": 0,
  "metadata": {
    "colab": {
      "name": "diabetes.ipynb",
      "provenance": [],
      "include_colab_link": true
    },
    "kernelspec": {
      "name": "python3",
      "display_name": "Python 3"
    },
    "language_info": {
      "name": "python"
    }
  },
  "cells": [
    {
      "cell_type": "markdown",
      "metadata": {
        "id": "view-in-github",
        "colab_type": "text"
      },
      "source": [
        "<a href=\"https://colab.research.google.com/github/jumadi-cloud/Fundamental-Python/blob/main/diabetes.ipynb\" target=\"_parent\"><img src=\"https://colab.research.google.com/assets/colab-badge.svg\" alt=\"Open In Colab\"/></a>"
      ]
    },
    {
      "cell_type": "markdown",
      "metadata": {
        "id": "VAM9wSm10Jg0"
      },
      "source": [
        "### Import Library : Pandas dan Numpy\n"
      ]
    },
    {
      "cell_type": "code",
      "metadata": {
        "id": "4_uulZNCxeHx"
      },
      "source": [
        "import pandas as pd\n",
        "import numpy as np"
      ],
      "execution_count": null,
      "outputs": []
    },
    {
      "cell_type": "markdown",
      "metadata": {
        "id": "yHa6E9RH1a_l"
      },
      "source": [
        "### Import Dataset"
      ]
    },
    {
      "cell_type": "markdown",
      "metadata": {
        "id": "zbncCQyf2S0_"
      },
      "source": [
        "#### Import Training Data"
      ]
    },
    {
      "cell_type": "code",
      "metadata": {
        "colab": {
          "base_uri": "https://localhost:8080/"
        },
        "id": "5BztGpWwPLK0",
        "outputId": "43aa88b9-146d-486e-dd22-9495262b30da"
      },
      "source": [
        "!wget -O diabetes_latih.csv https://raw.githubusercontent.com/jumadi-cloud/Fundamental-Python/main/Dataset/diabetes_latih.csv"
      ],
      "execution_count": null,
      "outputs": [
        {
          "output_type": "stream",
          "name": "stdout",
          "text": [
            "--2021-10-02 03:33:54--  https://raw.githubusercontent.com/jumadi-cloud/Fundamental-Python/main/Dataset/diabetes_latih.csv\n",
            "Resolving raw.githubusercontent.com (raw.githubusercontent.com)... 185.199.110.133, 185.199.108.133, 185.199.111.133, ...\n",
            "Connecting to raw.githubusercontent.com (raw.githubusercontent.com)|185.199.110.133|:443... connected.\n",
            "HTTP request sent, awaiting response... 200 OK\n",
            "Length: 18518 (18K) [text/plain]\n",
            "Saving to: ‘diabetes_latih.csv’\n",
            "\n",
            "\rdiabetes_latih.csv    0%[                    ]       0  --.-KB/s               \rdiabetes_latih.csv  100%[===================>]  18.08K  --.-KB/s    in 0s      \n",
            "\n",
            "2021-10-02 03:33:54 (48.4 MB/s) - ‘diabetes_latih.csv’ saved [18518/18518]\n",
            "\n"
          ]
        }
      ]
    },
    {
      "cell_type": "markdown",
      "metadata": {
        "id": "E6Atrv1n4EhY"
      },
      "source": [
        "#### Import Test Data"
      ]
    },
    {
      "cell_type": "code",
      "metadata": {
        "colab": {
          "base_uri": "https://localhost:8080/"
        },
        "id": "2krHqeyXQi0I",
        "outputId": "4cc8c685-6697-4c43-e28f-a9f031f0223b"
      },
      "source": [
        "!wget -O diabetes_uji.csv https://raw.githubusercontent.com/jumadi-cloud/Fundamental-Python/main/Dataset/diabetes_uji.csv"
      ],
      "execution_count": null,
      "outputs": [
        {
          "output_type": "stream",
          "name": "stdout",
          "text": [
            "--2021-10-02 03:33:54--  https://raw.githubusercontent.com/jumadi-cloud/Fundamental-Python/main/Dataset/diabetes_uji.csv\n",
            "Resolving raw.githubusercontent.com (raw.githubusercontent.com)... 185.199.108.133, 185.199.109.133, 185.199.110.133, ...\n",
            "Connecting to raw.githubusercontent.com (raw.githubusercontent.com)|185.199.108.133|:443... connected.\n",
            "HTTP request sent, awaiting response... 200 OK\n",
            "Length: 4685 (4.6K) [text/plain]\n",
            "Saving to: ‘diabetes_uji.csv’\n",
            "\n",
            "diabetes_uji.csv    100%[===================>]   4.58K  --.-KB/s    in 0s      \n",
            "\n",
            "2021-10-02 03:33:55 (38.2 MB/s) - ‘diabetes_uji.csv’ saved [4685/4685]\n",
            "\n"
          ]
        }
      ]
    },
    {
      "cell_type": "markdown",
      "metadata": {
        "id": "92SsuSqQ3pIO"
      },
      "source": [
        "### Making Dataframe Training and Test"
      ]
    },
    {
      "cell_type": "code",
      "metadata": {
        "id": "XkWjKYwLPPvl"
      },
      "source": [
        "df = pd.read_csv('diabetes_latih.csv')\n",
        "\n",
        "X_train = df.values\n",
        "X_train = np.delete(X_train,8, axis=1)\n",
        "\n",
        "y_train = df['Outcome'].values\n",
        "\n",
        "df = pd.read_csv('diabetes_uji.csv')\n",
        "\n",
        "X_test = df.values\n",
        "X_test = np.delete(X_test,8,axis=1)\n",
        "\n",
        "y_test = df['Outcome'].values"
      ],
      "execution_count": null,
      "outputs": []
    },
    {
      "cell_type": "code",
      "metadata": {
        "id": "dkYfQIEwRKMO"
      },
      "source": [
        "from sklearn.preprocessing import MinMaxScaler #\n",
        "X_train = MinMaxScaler().fit_transform(X_train)\n",
        "X_test = MinMaxScaler().fit_transform(X_test)"
      ],
      "execution_count": null,
      "outputs": []
    },
    {
      "cell_type": "markdown",
      "metadata": {
        "id": "Dsm6g4vn3-E0"
      },
      "source": [
        "### Model Text Description"
      ]
    },
    {
      "cell_type": "code",
      "metadata": {
        "id": "Sc5NDhONRbHJ"
      },
      "source": [
        "from keras.models import Sequential\n",
        "from keras.layers import Dense\n",
        "\n",
        "# define the model\n",
        "model = Sequential()\n",
        "model.add(Dense(12, activation='relu', input_shape=(8,)))\n",
        "model.add(Dense(8, activation='relu'))\n",
        "model.add(Dense(8, activation='relu'))\n",
        "model.add(Dense(1, activation='sigmoid'))\n",
        "\n",
        "# compile the model\n",
        "model.compile(loss='binary_crossentropy', optimizer='adam', metrics=['accuracy'])"
      ],
      "execution_count": null,
      "outputs": []
    },
    {
      "cell_type": "code",
      "metadata": {
        "colab": {
          "base_uri": "https://localhost:8080/"
        },
        "id": "7zvk9lhyRgm7",
        "outputId": "3c4cd06f-3939-49cb-ee9f-713d358237a7"
      },
      "source": [
        "model.summary()"
      ],
      "execution_count": null,
      "outputs": [
        {
          "output_type": "stream",
          "name": "stdout",
          "text": [
            "Model: \"sequential\"\n",
            "_________________________________________________________________\n",
            "Layer (type)                 Output Shape              Param #   \n",
            "=================================================================\n",
            "dense (Dense)                (None, 12)                108       \n",
            "_________________________________________________________________\n",
            "dense_1 (Dense)              (None, 8)                 104       \n",
            "_________________________________________________________________\n",
            "dense_2 (Dense)              (None, 8)                 72        \n",
            "_________________________________________________________________\n",
            "dense_3 (Dense)              (None, 1)                 9         \n",
            "=================================================================\n",
            "Total params: 293\n",
            "Trainable params: 293\n",
            "Non-trainable params: 0\n",
            "_________________________________________________________________\n"
          ]
        }
      ]
    },
    {
      "cell_type": "code",
      "metadata": {
        "colab": {
          "base_uri": "https://localhost:8080/",
          "height": 206
        },
        "id": "FG0HcFPRRiWV",
        "outputId": "8fbd8e54-bb21-4865-af39-42cb186cd312"
      },
      "source": [
        "df.head()"
      ],
      "execution_count": null,
      "outputs": [
        {
          "output_type": "execute_result",
          "data": {
            "text/html": [
              "<div>\n",
              "<style scoped>\n",
              "    .dataframe tbody tr th:only-of-type {\n",
              "        vertical-align: middle;\n",
              "    }\n",
              "\n",
              "    .dataframe tbody tr th {\n",
              "        vertical-align: top;\n",
              "    }\n",
              "\n",
              "    .dataframe thead th {\n",
              "        text-align: right;\n",
              "    }\n",
              "</style>\n",
              "<table border=\"1\" class=\"dataframe\">\n",
              "  <thead>\n",
              "    <tr style=\"text-align: right;\">\n",
              "      <th></th>\n",
              "      <th>Pregnancies</th>\n",
              "      <th>Glucose</th>\n",
              "      <th>BloodPressure</th>\n",
              "      <th>SkinThickness</th>\n",
              "      <th>Insulin</th>\n",
              "      <th>BMI</th>\n",
              "      <th>DiabetesPedigreeFunction</th>\n",
              "      <th>Age</th>\n",
              "      <th>Outcome</th>\n",
              "    </tr>\n",
              "  </thead>\n",
              "  <tbody>\n",
              "    <tr>\n",
              "      <th>0</th>\n",
              "      <td>6</td>\n",
              "      <td>148</td>\n",
              "      <td>72</td>\n",
              "      <td>35</td>\n",
              "      <td>0</td>\n",
              "      <td>33.6</td>\n",
              "      <td>0.627</td>\n",
              "      <td>50</td>\n",
              "      <td>1</td>\n",
              "    </tr>\n",
              "    <tr>\n",
              "      <th>1</th>\n",
              "      <td>1</td>\n",
              "      <td>85</td>\n",
              "      <td>66</td>\n",
              "      <td>29</td>\n",
              "      <td>0</td>\n",
              "      <td>26.6</td>\n",
              "      <td>0.351</td>\n",
              "      <td>31</td>\n",
              "      <td>0</td>\n",
              "    </tr>\n",
              "    <tr>\n",
              "      <th>2</th>\n",
              "      <td>8</td>\n",
              "      <td>183</td>\n",
              "      <td>64</td>\n",
              "      <td>0</td>\n",
              "      <td>0</td>\n",
              "      <td>23.3</td>\n",
              "      <td>0.672</td>\n",
              "      <td>32</td>\n",
              "      <td>1</td>\n",
              "    </tr>\n",
              "    <tr>\n",
              "      <th>3</th>\n",
              "      <td>1</td>\n",
              "      <td>89</td>\n",
              "      <td>66</td>\n",
              "      <td>23</td>\n",
              "      <td>94</td>\n",
              "      <td>28.1</td>\n",
              "      <td>0.167</td>\n",
              "      <td>21</td>\n",
              "      <td>0</td>\n",
              "    </tr>\n",
              "    <tr>\n",
              "      <th>4</th>\n",
              "      <td>0</td>\n",
              "      <td>137</td>\n",
              "      <td>40</td>\n",
              "      <td>35</td>\n",
              "      <td>168</td>\n",
              "      <td>43.1</td>\n",
              "      <td>2.288</td>\n",
              "      <td>33</td>\n",
              "      <td>1</td>\n",
              "    </tr>\n",
              "  </tbody>\n",
              "</table>\n",
              "</div>"
            ],
            "text/plain": [
              "   Pregnancies  Glucose  BloodPressure  ...  DiabetesPedigreeFunction  Age  Outcome\n",
              "0            6      148             72  ...                     0.627   50        1\n",
              "1            1       85             66  ...                     0.351   31        0\n",
              "2            8      183             64  ...                     0.672   32        1\n",
              "3            1       89             66  ...                     0.167   21        0\n",
              "4            0      137             40  ...                     2.288   33        1\n",
              "\n",
              "[5 rows x 9 columns]"
            ]
          },
          "metadata": {},
          "execution_count": 8
        }
      ]
    },
    {
      "cell_type": "markdown",
      "metadata": {
        "id": "gUmH4pSy4f-g"
      },
      "source": [
        "### Fit and Predict the Model"
      ]
    },
    {
      "cell_type": "code",
      "metadata": {
        "colab": {
          "base_uri": "https://localhost:8080/"
        },
        "id": "YtVcZGu8RqUz",
        "outputId": "e4d9047d-826c-4265-8983-691ddb0a564e"
      },
      "source": [
        "# fit the model\n",
        "model.fit(X_train, y_train, epochs=200, verbose=1, batch_size=20)\n",
        "\n",
        "# predict the model\n",
        "y_pred = model.predict(X_test)\n",
        "y_pred = y_pred >= 0.13"
      ],
      "execution_count": null,
      "outputs": [
        {
          "output_type": "stream",
          "name": "stdout",
          "text": [
            "Epoch 1/200\n",
            "31/31 [==============================] - 1s 2ms/step - loss: 0.6811 - accuracy: 0.6515\n",
            "Epoch 2/200\n",
            "31/31 [==============================] - 0s 2ms/step - loss: 0.6690 - accuracy: 0.6515\n",
            "Epoch 3/200\n",
            "31/31 [==============================] - 0s 2ms/step - loss: 0.6612 - accuracy: 0.6515\n",
            "Epoch 4/200\n",
            "31/31 [==============================] - 0s 2ms/step - loss: 0.6562 - accuracy: 0.6515\n",
            "Epoch 5/200\n",
            "31/31 [==============================] - 0s 2ms/step - loss: 0.6529 - accuracy: 0.6515\n",
            "Epoch 6/200\n",
            "31/31 [==============================] - 0s 2ms/step - loss: 0.6496 - accuracy: 0.6515\n",
            "Epoch 7/200\n",
            "31/31 [==============================] - 0s 2ms/step - loss: 0.6474 - accuracy: 0.6515\n",
            "Epoch 8/200\n",
            "31/31 [==============================] - 0s 2ms/step - loss: 0.6449 - accuracy: 0.6515\n",
            "Epoch 9/200\n",
            "31/31 [==============================] - 0s 2ms/step - loss: 0.6415 - accuracy: 0.6515\n",
            "Epoch 10/200\n",
            "31/31 [==============================] - 0s 2ms/step - loss: 0.6370 - accuracy: 0.6515\n",
            "Epoch 11/200\n",
            "31/31 [==============================] - 0s 2ms/step - loss: 0.6259 - accuracy: 0.6515\n",
            "Epoch 12/200\n",
            "31/31 [==============================] - 0s 1ms/step - loss: 0.6148 - accuracy: 0.6710\n",
            "Epoch 13/200\n",
            "31/31 [==============================] - 0s 2ms/step - loss: 0.6056 - accuracy: 0.6792\n",
            "Epoch 14/200\n",
            "31/31 [==============================] - 0s 2ms/step - loss: 0.5972 - accuracy: 0.6906\n",
            "Epoch 15/200\n",
            "31/31 [==============================] - 0s 2ms/step - loss: 0.5848 - accuracy: 0.7150\n",
            "Epoch 16/200\n",
            "31/31 [==============================] - 0s 1ms/step - loss: 0.5854 - accuracy: 0.7020\n",
            "Epoch 17/200\n",
            "31/31 [==============================] - 0s 2ms/step - loss: 0.5721 - accuracy: 0.7117\n",
            "Epoch 18/200\n",
            "31/31 [==============================] - 0s 2ms/step - loss: 0.5643 - accuracy: 0.7085\n",
            "Epoch 19/200\n",
            "31/31 [==============================] - 0s 3ms/step - loss: 0.5567 - accuracy: 0.7134\n",
            "Epoch 20/200\n",
            "31/31 [==============================] - 0s 2ms/step - loss: 0.5470 - accuracy: 0.7182\n",
            "Epoch 21/200\n",
            "31/31 [==============================] - 0s 2ms/step - loss: 0.5406 - accuracy: 0.7231\n",
            "Epoch 22/200\n",
            "31/31 [==============================] - 0s 2ms/step - loss: 0.5365 - accuracy: 0.7231\n",
            "Epoch 23/200\n",
            "31/31 [==============================] - 0s 2ms/step - loss: 0.5302 - accuracy: 0.7215\n",
            "Epoch 24/200\n",
            "31/31 [==============================] - 0s 2ms/step - loss: 0.5220 - accuracy: 0.7427\n",
            "Epoch 25/200\n",
            "31/31 [==============================] - 0s 1ms/step - loss: 0.5189 - accuracy: 0.7443\n",
            "Epoch 26/200\n",
            "31/31 [==============================] - 0s 2ms/step - loss: 0.5126 - accuracy: 0.7362\n",
            "Epoch 27/200\n",
            "31/31 [==============================] - 0s 2ms/step - loss: 0.5072 - accuracy: 0.7492\n",
            "Epoch 28/200\n",
            "31/31 [==============================] - 0s 2ms/step - loss: 0.5018 - accuracy: 0.7492\n",
            "Epoch 29/200\n",
            "31/31 [==============================] - 0s 2ms/step - loss: 0.4974 - accuracy: 0.7476\n",
            "Epoch 30/200\n",
            "31/31 [==============================] - 0s 2ms/step - loss: 0.4929 - accuracy: 0.7459\n",
            "Epoch 31/200\n",
            "31/31 [==============================] - 0s 2ms/step - loss: 0.4883 - accuracy: 0.7427\n",
            "Epoch 32/200\n",
            "31/31 [==============================] - 0s 1ms/step - loss: 0.4883 - accuracy: 0.7573\n",
            "Epoch 33/200\n",
            "31/31 [==============================] - 0s 1ms/step - loss: 0.4817 - accuracy: 0.7638\n",
            "Epoch 34/200\n",
            "31/31 [==============================] - 0s 2ms/step - loss: 0.4769 - accuracy: 0.7687\n",
            "Epoch 35/200\n",
            "31/31 [==============================] - 0s 2ms/step - loss: 0.4763 - accuracy: 0.7704\n",
            "Epoch 36/200\n",
            "31/31 [==============================] - 0s 2ms/step - loss: 0.4723 - accuracy: 0.7687\n",
            "Epoch 37/200\n",
            "31/31 [==============================] - 0s 3ms/step - loss: 0.4700 - accuracy: 0.7752\n",
            "Epoch 38/200\n",
            "31/31 [==============================] - 0s 1ms/step - loss: 0.4698 - accuracy: 0.7769\n",
            "Epoch 39/200\n",
            "31/31 [==============================] - 0s 2ms/step - loss: 0.4646 - accuracy: 0.7671\n",
            "Epoch 40/200\n",
            "31/31 [==============================] - 0s 2ms/step - loss: 0.4620 - accuracy: 0.7785\n",
            "Epoch 41/200\n",
            "31/31 [==============================] - 0s 2ms/step - loss: 0.4630 - accuracy: 0.7704\n",
            "Epoch 42/200\n",
            "31/31 [==============================] - 0s 2ms/step - loss: 0.4578 - accuracy: 0.7720\n",
            "Epoch 43/200\n",
            "31/31 [==============================] - 0s 2ms/step - loss: 0.4611 - accuracy: 0.7801\n",
            "Epoch 44/200\n",
            "31/31 [==============================] - 0s 2ms/step - loss: 0.4635 - accuracy: 0.7769\n",
            "Epoch 45/200\n",
            "31/31 [==============================] - 0s 2ms/step - loss: 0.4560 - accuracy: 0.7687\n",
            "Epoch 46/200\n",
            "31/31 [==============================] - 0s 1ms/step - loss: 0.4521 - accuracy: 0.7752\n",
            "Epoch 47/200\n",
            "31/31 [==============================] - 0s 2ms/step - loss: 0.4493 - accuracy: 0.7850\n",
            "Epoch 48/200\n",
            "31/31 [==============================] - 0s 2ms/step - loss: 0.4556 - accuracy: 0.7687\n",
            "Epoch 49/200\n",
            "31/31 [==============================] - 0s 2ms/step - loss: 0.4489 - accuracy: 0.7818\n",
            "Epoch 50/200\n",
            "31/31 [==============================] - 0s 2ms/step - loss: 0.4482 - accuracy: 0.7883\n",
            "Epoch 51/200\n",
            "31/31 [==============================] - 0s 2ms/step - loss: 0.4462 - accuracy: 0.7818\n",
            "Epoch 52/200\n",
            "31/31 [==============================] - 0s 2ms/step - loss: 0.4462 - accuracy: 0.7834\n",
            "Epoch 53/200\n",
            "31/31 [==============================] - 0s 2ms/step - loss: 0.4488 - accuracy: 0.7899\n",
            "Epoch 54/200\n",
            "31/31 [==============================] - 0s 1ms/step - loss: 0.4449 - accuracy: 0.7883\n",
            "Epoch 55/200\n",
            "31/31 [==============================] - 0s 1ms/step - loss: 0.4447 - accuracy: 0.7818\n",
            "Epoch 56/200\n",
            "31/31 [==============================] - 0s 2ms/step - loss: 0.4432 - accuracy: 0.7866\n",
            "Epoch 57/200\n",
            "31/31 [==============================] - 0s 1ms/step - loss: 0.4433 - accuracy: 0.7915\n",
            "Epoch 58/200\n",
            "31/31 [==============================] - 0s 1ms/step - loss: 0.4479 - accuracy: 0.7801\n",
            "Epoch 59/200\n",
            "31/31 [==============================] - 0s 2ms/step - loss: 0.4428 - accuracy: 0.7866\n",
            "Epoch 60/200\n",
            "31/31 [==============================] - 0s 2ms/step - loss: 0.4402 - accuracy: 0.7866\n",
            "Epoch 61/200\n",
            "31/31 [==============================] - 0s 2ms/step - loss: 0.4399 - accuracy: 0.7883\n",
            "Epoch 62/200\n",
            "31/31 [==============================] - 0s 2ms/step - loss: 0.4404 - accuracy: 0.7850\n",
            "Epoch 63/200\n",
            "31/31 [==============================] - 0s 1ms/step - loss: 0.4420 - accuracy: 0.7818\n",
            "Epoch 64/200\n",
            "31/31 [==============================] - 0s 2ms/step - loss: 0.4382 - accuracy: 0.7850\n",
            "Epoch 65/200\n",
            "31/31 [==============================] - 0s 1ms/step - loss: 0.4390 - accuracy: 0.7818\n",
            "Epoch 66/200\n",
            "31/31 [==============================] - 0s 2ms/step - loss: 0.4397 - accuracy: 0.7850\n",
            "Epoch 67/200\n",
            "31/31 [==============================] - 0s 2ms/step - loss: 0.4399 - accuracy: 0.7899\n",
            "Epoch 68/200\n",
            "31/31 [==============================] - 0s 2ms/step - loss: 0.4391 - accuracy: 0.7915\n",
            "Epoch 69/200\n",
            "31/31 [==============================] - 0s 2ms/step - loss: 0.4357 - accuracy: 0.7899\n",
            "Epoch 70/200\n",
            "31/31 [==============================] - 0s 2ms/step - loss: 0.4373 - accuracy: 0.7834\n",
            "Epoch 71/200\n",
            "31/31 [==============================] - 0s 2ms/step - loss: 0.4417 - accuracy: 0.7883\n",
            "Epoch 72/200\n",
            "31/31 [==============================] - 0s 2ms/step - loss: 0.4353 - accuracy: 0.7883\n",
            "Epoch 73/200\n",
            "31/31 [==============================] - 0s 1ms/step - loss: 0.4374 - accuracy: 0.7769\n",
            "Epoch 74/200\n",
            "31/31 [==============================] - 0s 1ms/step - loss: 0.4379 - accuracy: 0.7980\n",
            "Epoch 75/200\n",
            "31/31 [==============================] - 0s 1ms/step - loss: 0.4326 - accuracy: 0.7948\n",
            "Epoch 76/200\n",
            "31/31 [==============================] - 0s 1ms/step - loss: 0.4387 - accuracy: 0.7801\n",
            "Epoch 77/200\n",
            "31/31 [==============================] - 0s 2ms/step - loss: 0.4331 - accuracy: 0.7801\n",
            "Epoch 78/200\n",
            "31/31 [==============================] - 0s 2ms/step - loss: 0.4357 - accuracy: 0.7932\n",
            "Epoch 79/200\n",
            "31/31 [==============================] - 0s 2ms/step - loss: 0.4363 - accuracy: 0.7866\n",
            "Epoch 80/200\n",
            "31/31 [==============================] - 0s 2ms/step - loss: 0.4317 - accuracy: 0.7866\n",
            "Epoch 81/200\n",
            "31/31 [==============================] - 0s 2ms/step - loss: 0.4327 - accuracy: 0.7915\n",
            "Epoch 82/200\n",
            "31/31 [==============================] - 0s 2ms/step - loss: 0.4308 - accuracy: 0.7948\n",
            "Epoch 83/200\n",
            "31/31 [==============================] - 0s 2ms/step - loss: 0.4305 - accuracy: 0.7980\n",
            "Epoch 84/200\n",
            "31/31 [==============================] - 0s 2ms/step - loss: 0.4312 - accuracy: 0.7948\n",
            "Epoch 85/200\n",
            "31/31 [==============================] - 0s 2ms/step - loss: 0.4305 - accuracy: 0.7899\n",
            "Epoch 86/200\n",
            "31/31 [==============================] - 0s 2ms/step - loss: 0.4349 - accuracy: 0.7801\n",
            "Epoch 87/200\n",
            "31/31 [==============================] - 0s 2ms/step - loss: 0.4376 - accuracy: 0.7883\n",
            "Epoch 88/200\n",
            "31/31 [==============================] - 0s 2ms/step - loss: 0.4368 - accuracy: 0.7883\n",
            "Epoch 89/200\n",
            "31/31 [==============================] - 0s 2ms/step - loss: 0.4324 - accuracy: 0.7834\n",
            "Epoch 90/200\n",
            "31/31 [==============================] - 0s 2ms/step - loss: 0.4311 - accuracy: 0.7932\n",
            "Epoch 91/200\n",
            "31/31 [==============================] - 0s 2ms/step - loss: 0.4290 - accuracy: 0.7932\n",
            "Epoch 92/200\n",
            "31/31 [==============================] - 0s 2ms/step - loss: 0.4397 - accuracy: 0.7785\n",
            "Epoch 93/200\n",
            "31/31 [==============================] - 0s 2ms/step - loss: 0.4317 - accuracy: 0.7850\n",
            "Epoch 94/200\n",
            "31/31 [==============================] - 0s 2ms/step - loss: 0.4301 - accuracy: 0.7948\n",
            "Epoch 95/200\n",
            "31/31 [==============================] - 0s 2ms/step - loss: 0.4267 - accuracy: 0.7932\n",
            "Epoch 96/200\n",
            "31/31 [==============================] - 0s 2ms/step - loss: 0.4252 - accuracy: 0.8013\n",
            "Epoch 97/200\n",
            "31/31 [==============================] - 0s 2ms/step - loss: 0.4282 - accuracy: 0.7883\n",
            "Epoch 98/200\n",
            "31/31 [==============================] - 0s 1ms/step - loss: 0.4267 - accuracy: 0.7932\n",
            "Epoch 99/200\n",
            "31/31 [==============================] - 0s 2ms/step - loss: 0.4241 - accuracy: 0.7915\n",
            "Epoch 100/200\n",
            "31/31 [==============================] - 0s 2ms/step - loss: 0.4266 - accuracy: 0.7948\n",
            "Epoch 101/200\n",
            "31/31 [==============================] - 0s 1ms/step - loss: 0.4266 - accuracy: 0.7850\n",
            "Epoch 102/200\n",
            "31/31 [==============================] - 0s 2ms/step - loss: 0.4250 - accuracy: 0.7964\n",
            "Epoch 103/200\n",
            "31/31 [==============================] - 0s 2ms/step - loss: 0.4284 - accuracy: 0.7818\n",
            "Epoch 104/200\n",
            "31/31 [==============================] - 0s 2ms/step - loss: 0.4255 - accuracy: 0.7932\n",
            "Epoch 105/200\n",
            "31/31 [==============================] - 0s 2ms/step - loss: 0.4244 - accuracy: 0.7980\n",
            "Epoch 106/200\n",
            "31/31 [==============================] - 0s 2ms/step - loss: 0.4240 - accuracy: 0.7932\n",
            "Epoch 107/200\n",
            "31/31 [==============================] - 0s 1ms/step - loss: 0.4238 - accuracy: 0.7980\n",
            "Epoch 108/200\n",
            "31/31 [==============================] - 0s 2ms/step - loss: 0.4233 - accuracy: 0.7915\n",
            "Epoch 109/200\n",
            "31/31 [==============================] - 0s 2ms/step - loss: 0.4277 - accuracy: 0.7932\n",
            "Epoch 110/200\n",
            "31/31 [==============================] - 0s 2ms/step - loss: 0.4334 - accuracy: 0.7915\n",
            "Epoch 111/200\n",
            "31/31 [==============================] - 0s 2ms/step - loss: 0.4256 - accuracy: 0.7834\n",
            "Epoch 112/200\n",
            "31/31 [==============================] - 0s 2ms/step - loss: 0.4240 - accuracy: 0.7834\n",
            "Epoch 113/200\n",
            "31/31 [==============================] - 0s 2ms/step - loss: 0.4289 - accuracy: 0.7899\n",
            "Epoch 114/200\n",
            "31/31 [==============================] - 0s 1ms/step - loss: 0.4226 - accuracy: 0.7948\n",
            "Epoch 115/200\n",
            "31/31 [==============================] - 0s 2ms/step - loss: 0.4230 - accuracy: 0.7948\n",
            "Epoch 116/200\n",
            "31/31 [==============================] - 0s 2ms/step - loss: 0.4224 - accuracy: 0.7980\n",
            "Epoch 117/200\n",
            "31/31 [==============================] - 0s 2ms/step - loss: 0.4216 - accuracy: 0.7932\n",
            "Epoch 118/200\n",
            "31/31 [==============================] - 0s 1ms/step - loss: 0.4260 - accuracy: 0.7866\n",
            "Epoch 119/200\n",
            "31/31 [==============================] - 0s 1ms/step - loss: 0.4214 - accuracy: 0.7948\n",
            "Epoch 120/200\n",
            "31/31 [==============================] - 0s 2ms/step - loss: 0.4196 - accuracy: 0.7980\n",
            "Epoch 121/200\n",
            "31/31 [==============================] - 0s 2ms/step - loss: 0.4225 - accuracy: 0.7899\n",
            "Epoch 122/200\n",
            "31/31 [==============================] - 0s 2ms/step - loss: 0.4211 - accuracy: 0.7964\n",
            "Epoch 123/200\n",
            "31/31 [==============================] - 0s 1ms/step - loss: 0.4214 - accuracy: 0.7883\n",
            "Epoch 124/200\n",
            "31/31 [==============================] - 0s 2ms/step - loss: 0.4192 - accuracy: 0.7932\n",
            "Epoch 125/200\n",
            "31/31 [==============================] - 0s 2ms/step - loss: 0.4244 - accuracy: 0.7850\n",
            "Epoch 126/200\n",
            "31/31 [==============================] - 0s 2ms/step - loss: 0.4174 - accuracy: 0.7932\n",
            "Epoch 127/200\n",
            "31/31 [==============================] - 0s 1ms/step - loss: 0.4178 - accuracy: 0.7980\n",
            "Epoch 128/200\n",
            "31/31 [==============================] - 0s 2ms/step - loss: 0.4228 - accuracy: 0.7915\n",
            "Epoch 129/200\n",
            "31/31 [==============================] - 0s 2ms/step - loss: 0.4200 - accuracy: 0.8062\n",
            "Epoch 130/200\n",
            "31/31 [==============================] - 0s 2ms/step - loss: 0.4193 - accuracy: 0.7948\n",
            "Epoch 131/200\n",
            "31/31 [==============================] - 0s 2ms/step - loss: 0.4177 - accuracy: 0.7948\n",
            "Epoch 132/200\n",
            "31/31 [==============================] - 0s 1ms/step - loss: 0.4175 - accuracy: 0.7948\n",
            "Epoch 133/200\n",
            "31/31 [==============================] - 0s 2ms/step - loss: 0.4209 - accuracy: 0.7980\n",
            "Epoch 134/200\n",
            "31/31 [==============================] - 0s 2ms/step - loss: 0.4205 - accuracy: 0.7948\n",
            "Epoch 135/200\n",
            "31/31 [==============================] - 0s 2ms/step - loss: 0.4213 - accuracy: 0.7866\n",
            "Epoch 136/200\n",
            "31/31 [==============================] - 0s 2ms/step - loss: 0.4181 - accuracy: 0.7980\n",
            "Epoch 137/200\n",
            "31/31 [==============================] - 0s 2ms/step - loss: 0.4187 - accuracy: 0.7899\n",
            "Epoch 138/200\n",
            "31/31 [==============================] - 0s 2ms/step - loss: 0.4172 - accuracy: 0.7932\n",
            "Epoch 139/200\n",
            "31/31 [==============================] - 0s 2ms/step - loss: 0.4174 - accuracy: 0.7948\n",
            "Epoch 140/200\n",
            "31/31 [==============================] - 0s 2ms/step - loss: 0.4273 - accuracy: 0.7899\n",
            "Epoch 141/200\n",
            "31/31 [==============================] - 0s 2ms/step - loss: 0.4185 - accuracy: 0.7915\n",
            "Epoch 142/200\n",
            "31/31 [==============================] - 0s 2ms/step - loss: 0.4194 - accuracy: 0.7915\n",
            "Epoch 143/200\n",
            "31/31 [==============================] - 0s 2ms/step - loss: 0.4164 - accuracy: 0.7964\n",
            "Epoch 144/200\n",
            "31/31 [==============================] - 0s 2ms/step - loss: 0.4154 - accuracy: 0.7948\n",
            "Epoch 145/200\n",
            "31/31 [==============================] - 0s 2ms/step - loss: 0.4161 - accuracy: 0.7997\n",
            "Epoch 146/200\n",
            "31/31 [==============================] - 0s 2ms/step - loss: 0.4158 - accuracy: 0.7915\n",
            "Epoch 147/200\n",
            "31/31 [==============================] - 0s 2ms/step - loss: 0.4136 - accuracy: 0.7964\n",
            "Epoch 148/200\n",
            "31/31 [==============================] - 0s 2ms/step - loss: 0.4192 - accuracy: 0.7932\n",
            "Epoch 149/200\n",
            "31/31 [==============================] - 0s 2ms/step - loss: 0.4133 - accuracy: 0.7964\n",
            "Epoch 150/200\n",
            "31/31 [==============================] - 0s 2ms/step - loss: 0.4165 - accuracy: 0.7866\n",
            "Epoch 151/200\n",
            "31/31 [==============================] - 0s 2ms/step - loss: 0.4140 - accuracy: 0.7997\n",
            "Epoch 152/200\n",
            "31/31 [==============================] - 0s 2ms/step - loss: 0.4138 - accuracy: 0.7932\n",
            "Epoch 153/200\n",
            "31/31 [==============================] - 0s 2ms/step - loss: 0.4209 - accuracy: 0.7883\n",
            "Epoch 154/200\n",
            "31/31 [==============================] - 0s 2ms/step - loss: 0.4123 - accuracy: 0.7980\n",
            "Epoch 155/200\n",
            "31/31 [==============================] - 0s 2ms/step - loss: 0.4131 - accuracy: 0.7997\n",
            "Epoch 156/200\n",
            "31/31 [==============================] - 0s 2ms/step - loss: 0.4133 - accuracy: 0.8062\n",
            "Epoch 157/200\n",
            "31/31 [==============================] - 0s 2ms/step - loss: 0.4131 - accuracy: 0.7932\n",
            "Epoch 158/200\n",
            "31/31 [==============================] - 0s 2ms/step - loss: 0.4185 - accuracy: 0.7948\n",
            "Epoch 159/200\n",
            "31/31 [==============================] - 0s 2ms/step - loss: 0.4218 - accuracy: 0.7866\n",
            "Epoch 160/200\n",
            "31/31 [==============================] - 0s 2ms/step - loss: 0.4147 - accuracy: 0.7883\n",
            "Epoch 161/200\n",
            "31/31 [==============================] - 0s 2ms/step - loss: 0.4151 - accuracy: 0.7997\n",
            "Epoch 162/200\n",
            "31/31 [==============================] - 0s 2ms/step - loss: 0.4136 - accuracy: 0.7899\n",
            "Epoch 163/200\n",
            "31/31 [==============================] - 0s 2ms/step - loss: 0.4146 - accuracy: 0.7997\n",
            "Epoch 164/200\n",
            "31/31 [==============================] - 0s 2ms/step - loss: 0.4126 - accuracy: 0.8046\n",
            "Epoch 165/200\n",
            "31/31 [==============================] - 0s 2ms/step - loss: 0.4157 - accuracy: 0.7997\n",
            "Epoch 166/200\n",
            "31/31 [==============================] - 0s 2ms/step - loss: 0.4147 - accuracy: 0.7997\n",
            "Epoch 167/200\n",
            "31/31 [==============================] - 0s 3ms/step - loss: 0.4135 - accuracy: 0.7932\n",
            "Epoch 168/200\n",
            "31/31 [==============================] - 0s 2ms/step - loss: 0.4130 - accuracy: 0.7948\n",
            "Epoch 169/200\n",
            "31/31 [==============================] - 0s 2ms/step - loss: 0.4121 - accuracy: 0.7980\n",
            "Epoch 170/200\n",
            "31/31 [==============================] - 0s 2ms/step - loss: 0.4098 - accuracy: 0.7948\n",
            "Epoch 171/200\n",
            "31/31 [==============================] - 0s 2ms/step - loss: 0.4158 - accuracy: 0.7997\n",
            "Epoch 172/200\n",
            "31/31 [==============================] - 0s 2ms/step - loss: 0.4070 - accuracy: 0.7997\n",
            "Epoch 173/200\n",
            "31/31 [==============================] - 0s 2ms/step - loss: 0.4131 - accuracy: 0.7964\n",
            "Epoch 174/200\n",
            "31/31 [==============================] - 0s 2ms/step - loss: 0.4138 - accuracy: 0.7915\n",
            "Epoch 175/200\n",
            "31/31 [==============================] - 0s 2ms/step - loss: 0.4141 - accuracy: 0.8029\n",
            "Epoch 176/200\n",
            "31/31 [==============================] - 0s 2ms/step - loss: 0.4117 - accuracy: 0.7915\n",
            "Epoch 177/200\n",
            "31/31 [==============================] - 0s 2ms/step - loss: 0.4101 - accuracy: 0.7932\n",
            "Epoch 178/200\n",
            "31/31 [==============================] - 0s 2ms/step - loss: 0.4088 - accuracy: 0.8029\n",
            "Epoch 179/200\n",
            "31/31 [==============================] - 0s 3ms/step - loss: 0.4137 - accuracy: 0.7915\n",
            "Epoch 180/200\n",
            "31/31 [==============================] - 0s 2ms/step - loss: 0.4158 - accuracy: 0.7866\n",
            "Epoch 181/200\n",
            "31/31 [==============================] - 0s 2ms/step - loss: 0.4135 - accuracy: 0.7948\n",
            "Epoch 182/200\n",
            "31/31 [==============================] - 0s 2ms/step - loss: 0.4185 - accuracy: 0.8029\n",
            "Epoch 183/200\n",
            "31/31 [==============================] - 0s 3ms/step - loss: 0.4177 - accuracy: 0.7899\n",
            "Epoch 184/200\n",
            "31/31 [==============================] - 0s 2ms/step - loss: 0.4103 - accuracy: 0.7980\n",
            "Epoch 185/200\n",
            "31/31 [==============================] - 0s 2ms/step - loss: 0.4119 - accuracy: 0.7915\n",
            "Epoch 186/200\n",
            "31/31 [==============================] - 0s 2ms/step - loss: 0.4138 - accuracy: 0.7964\n",
            "Epoch 187/200\n",
            "31/31 [==============================] - 0s 2ms/step - loss: 0.4089 - accuracy: 0.7980\n",
            "Epoch 188/200\n",
            "31/31 [==============================] - 0s 2ms/step - loss: 0.4093 - accuracy: 0.7932\n",
            "Epoch 189/200\n",
            "31/31 [==============================] - 0s 2ms/step - loss: 0.4104 - accuracy: 0.7883\n",
            "Epoch 190/200\n",
            "31/31 [==============================] - 0s 2ms/step - loss: 0.4132 - accuracy: 0.7915\n",
            "Epoch 191/200\n",
            "31/31 [==============================] - 0s 2ms/step - loss: 0.4101 - accuracy: 0.7932\n",
            "Epoch 192/200\n",
            "31/31 [==============================] - 0s 2ms/step - loss: 0.4085 - accuracy: 0.7932\n",
            "Epoch 193/200\n",
            "31/31 [==============================] - 0s 2ms/step - loss: 0.4074 - accuracy: 0.8029\n",
            "Epoch 194/200\n",
            "31/31 [==============================] - 0s 2ms/step - loss: 0.4121 - accuracy: 0.7964\n",
            "Epoch 195/200\n",
            "31/31 [==============================] - 0s 2ms/step - loss: 0.4076 - accuracy: 0.7948\n",
            "Epoch 196/200\n",
            "31/31 [==============================] - 0s 2ms/step - loss: 0.4067 - accuracy: 0.7915\n",
            "Epoch 197/200\n",
            "31/31 [==============================] - 0s 2ms/step - loss: 0.4124 - accuracy: 0.7980\n",
            "Epoch 198/200\n",
            "31/31 [==============================] - 0s 2ms/step - loss: 0.4099 - accuracy: 0.7964\n",
            "Epoch 199/200\n",
            "31/31 [==============================] - 0s 2ms/step - loss: 0.4111 - accuracy: 0.8029\n",
            "Epoch 200/200\n",
            "31/31 [==============================] - 0s 2ms/step - loss: 0.4102 - accuracy: 0.7964\n"
          ]
        }
      ]
    },
    {
      "cell_type": "code",
      "metadata": {
        "colab": {
          "base_uri": "https://localhost:8080/"
        },
        "id": "n6iXe9vJRxcx",
        "outputId": "c0533bac-6466-4afb-e342-4a8f03774e0b"
      },
      "source": [
        "# menetukan nilai akurasi dari prediksi yang ada\n",
        "from sklearn.metrics import accuracy_score\n",
        "\n",
        "round(accuracy_score(y_test, y_pred),3)"
      ],
      "execution_count": null,
      "outputs": [
        {
          "output_type": "execute_result",
          "data": {
            "text/plain": [
              "0.565"
            ]
          },
          "metadata": {},
          "execution_count": 10
        }
      ]
    }
  ]
}